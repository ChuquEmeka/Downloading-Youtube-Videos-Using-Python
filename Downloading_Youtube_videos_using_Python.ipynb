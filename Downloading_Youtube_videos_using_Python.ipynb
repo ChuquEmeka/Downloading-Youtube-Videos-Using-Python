{
 "cells": [
  {
   "cell_type": "code",
   "execution_count": 1,
   "id": "fdd5fe2d-6bc6-4d16-8ac1-4066cdbc6b1a",
   "metadata": {},
   "outputs": [
    {
     "name": "stdout",
     "output_type": "stream",
     "text": [
      "Collecting pytube\n",
      "  Downloading pytube-11.0.2-py3-none-any.whl (56 kB)\n",
      "Installing collected packages: pytube\n",
      "Successfully installed pytube-11.0.2\n"
     ]
    }
   ],
   "source": [
    "!pip install pytube"
   ]
  },
  {
   "cell_type": "code",
   "execution_count": 2,
   "id": "51932cbd-b1cf-4fbc-b747-47c8b9d4a727",
   "metadata": {},
   "outputs": [],
   "source": [
    "from pytube import YouTube"
   ]
  },
  {
   "cell_type": "code",
   "execution_count": 3,
   "id": "ed20ce24-6ab7-4f6b-8f8a-8e499aadc900",
   "metadata": {},
   "outputs": [],
   "source": [
    "Download_to = \"Users/EDEH EMEKA NWEKE/Downloads\""
   ]
  },
  {
   "cell_type": "code",
   "execution_count": 4,
   "id": "418329cf-db08-41f8-868c-647a7dcff00b",
   "metadata": {},
   "outputs": [],
   "source": [
    "video =\"https://www.youtube.com/watch?v=QghAw--Ul0o&ab_channel=ExcelTutorialsbyEasyClickAcademy\""
   ]
  },
  {
   "cell_type": "code",
   "execution_count": 5,
   "id": "26107c68-3c0a-42c5-8f80-d1661946777a",
   "metadata": {},
   "outputs": [],
   "source": [
    "video_obj = YouTube(video)"
   ]
  },
  {
   "cell_type": "code",
   "execution_count": 6,
   "id": "b833a16b-de37-46b9-8063-6f1af272525e",
   "metadata": {},
   "outputs": [],
   "source": [
    "stream = video_obj.streams.get_highest_resolution()"
   ]
  },
  {
   "cell_type": "code",
   "execution_count": 7,
   "id": "550968df-8c48-4263-82d9-ea7e59e46492",
   "metadata": {},
   "outputs": [
    {
     "data": {
      "text/plain": [
       "'C:\\\\Users\\\\EDEH EMEKA NWEKE\\\\Desktop\\\\NIIT Term 2\\\\Users/EDEH EMEKA NWEKE/Downloads\\\\How to Move Columns in Excel (The Easiest Way).mp4'"
      ]
     },
     "execution_count": 7,
     "metadata": {},
     "output_type": "execute_result"
    }
   ],
   "source": [
    "stream.download(Download_to)"
   ]
  },
  {
   "cell_type": "code",
   "execution_count": null,
   "id": "1abd7478-2b89-43c2-95ba-caaa44d9d8f5",
   "metadata": {},
   "outputs": [],
   "source": []
  }
 ],
 "metadata": {
  "kernelspec": {
   "display_name": "Python 3",
   "language": "python",
   "name": "python3"
  },
  "language_info": {
   "codemirror_mode": {
    "name": "ipython",
    "version": 3
   },
   "file_extension": ".py",
   "mimetype": "text/x-python",
   "name": "python",
   "nbconvert_exporter": "python",
   "pygments_lexer": "ipython3",
   "version": "3.8.8"
  }
 },
 "nbformat": 4,
 "nbformat_minor": 5
}
