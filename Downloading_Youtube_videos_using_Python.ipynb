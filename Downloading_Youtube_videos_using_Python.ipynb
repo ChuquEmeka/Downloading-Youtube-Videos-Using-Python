{
  "cells": [
    {
      "cell_type": "markdown",
      "metadata": {
        "id": "view-in-github",
        "colab_type": "text"
      },
      "source": [
        "<a href=\"https://colab.research.google.com/github/ChuquEmeka/Downloading-Youtube-Videos-Using-Python/blob/main/Downloading_Youtube_videos_using_Python.ipynb\" target=\"_parent\"><img src=\"https://colab.research.google.com/assets/colab-badge.svg\" alt=\"Open In Colab\"/></a>"
      ]
    },
    {
      "cell_type": "code",
      "execution_count": null,
      "id": "fdd5fe2d-6bc6-4d16-8ac1-4066cdbc6b1a",
      "metadata": {
        "id": "fdd5fe2d-6bc6-4d16-8ac1-4066cdbc6b1a",
        "outputId": "ea197149-b9c5-4fd1-b8f2-53fe8706ee47"
      },
      "outputs": [
        {
          "name": "stdout",
          "output_type": "stream",
          "text": [
            "Collecting pytube\n",
            "  Downloading pytube-11.0.2-py3-none-any.whl (56 kB)\n",
            "Installing collected packages: pytube\n",
            "Successfully installed pytube-11.0.2\n"
          ]
        }
      ],
      "source": [
        "!pip install pytube"
      ]
    },
    {
      "cell_type": "code",
      "execution_count": null,
      "id": "51932cbd-b1cf-4fbc-b747-47c8b9d4a727",
      "metadata": {
        "id": "51932cbd-b1cf-4fbc-b747-47c8b9d4a727"
      },
      "outputs": [],
      "source": [
        "from pytube import YouTube"
      ]
    },
    {
      "cell_type": "code",
      "execution_count": null,
      "id": "ed20ce24-6ab7-4f6b-8f8a-8e499aadc900",
      "metadata": {
        "id": "ed20ce24-6ab7-4f6b-8f8a-8e499aadc900"
      },
      "outputs": [],
      "source": [
        "Download_to = \"Users/EDEH EMEKA NWEKE/Downloads\""
      ]
    },
    {
      "cell_type": "code",
      "execution_count": null,
      "id": "418329cf-db08-41f8-868c-647a7dcff00b",
      "metadata": {
        "id": "418329cf-db08-41f8-868c-647a7dcff00b"
      },
      "outputs": [],
      "source": [
        "video =\"https://www.youtube.com/watch?v=QghAw--Ul0o&ab_channel=ExcelTutorialsbyEasyClickAcademy\""
      ]
    },
    {
      "cell_type": "code",
      "execution_count": null,
      "id": "26107c68-3c0a-42c5-8f80-d1661946777a",
      "metadata": {
        "id": "26107c68-3c0a-42c5-8f80-d1661946777a"
      },
      "outputs": [],
      "source": [
        "video_obj = YouTube(video)"
      ]
    },
    {
      "cell_type": "code",
      "execution_count": null,
      "id": "b833a16b-de37-46b9-8063-6f1af272525e",
      "metadata": {
        "id": "b833a16b-de37-46b9-8063-6f1af272525e"
      },
      "outputs": [],
      "source": [
        "stream = video_obj.streams.get_highest_resolution()"
      ]
    },
    {
      "cell_type": "code",
      "execution_count": null,
      "id": "550968df-8c48-4263-82d9-ea7e59e46492",
      "metadata": {
        "id": "550968df-8c48-4263-82d9-ea7e59e46492",
        "outputId": "5f9c0d37-df79-470d-d00b-8ced45f28a87"
      },
      "outputs": [
        {
          "data": {
            "text/plain": [
              "'C:\\\\Users\\\\EDEH EMEKA NWEKE\\\\Desktop\\\\NIIT Term 2\\\\Users/EDEH EMEKA NWEKE/Downloads\\\\How to Move Columns in Excel (The Easiest Way).mp4'"
            ]
          },
          "execution_count": 7,
          "metadata": {},
          "output_type": "execute_result"
        }
      ],
      "source": [
        "stream.download(Download_to)"
      ]
    },
    {
      "cell_type": "code",
      "execution_count": null,
      "id": "1abd7478-2b89-43c2-95ba-caaa44d9d8f5",
      "metadata": {
        "id": "1abd7478-2b89-43c2-95ba-caaa44d9d8f5"
      },
      "outputs": [],
      "source": [
        ""
      ]
    }
  ],
  "metadata": {
    "kernelspec": {
      "display_name": "Python 3",
      "language": "python",
      "name": "python3"
    },
    "language_info": {
      "codemirror_mode": {
        "name": "ipython",
        "version": 3
      },
      "file_extension": ".py",
      "mimetype": "text/x-python",
      "name": "python",
      "nbconvert_exporter": "python",
      "pygments_lexer": "ipython3",
      "version": "3.8.8"
    },
    "colab": {
      "name": "Downloading_Youtube_videos_using_Python.ipynb",
      "provenance": [],
      "include_colab_link": true
    }
  },
  "nbformat": 4,
  "nbformat_minor": 5
}